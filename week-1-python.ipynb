{
 "cells": [
  {
   "cell_type": "markdown",
   "id": "9f3cd809",
   "metadata": {},
   "source": [
    "# working with list\n",
    "## A list is a collection of items ina particular order.Because a list usaully contains mre than one element,its a good idea to make the name of your list\n",
    "## plural,such as letters,digits or names. In python square brackets indicate  list and individual elements are separated by a comma."
   ]
  },
  {
   "cell_type": "code",
   "execution_count": 9,
   "id": "d9f16af3",
   "metadata": {},
   "outputs": [
    {
     "name": "stdout",
     "output_type": "stream",
     "text": [
      "Amaka\n",
      "Martha\n",
      "Uchenna\n",
      "\n",
      "road is a mode of transport studied in school.\n",
      "\n",
      "air is a mode of transport studied in school.\n",
      "\n",
      "water is a mode of transport studied in school.\n"
     ]
    }
   ],
   "source": [
    "# Accessing Elements in a list\n",
    "## excercises:\n",
    "Names = ['amaka','martha','uchenna']\n",
    "for name in Names:\n",
    "    print(name.title())\n",
    "\n",
    "\n",
    "mode_of_transport = \"road\",\"air\",\"water\"\n",
    "for mode in mode_of_transport:\n",
    "    print(f\"\\n{mode} is a mode of transport studied in school.\")"
   ]
  },
  {
   "cell_type": "markdown",
   "id": "528531e8",
   "metadata": {},
   "source": [
    "# modifying element in a list\n",
    "## Adding elements in a list : using append,insert and extend"
   ]
  },
  {
   "cell_type": "code",
   "execution_count": null,
   "id": "30b6008a",
   "metadata": {},
   "outputs": [
    {
     "name": "stdout",
     "output_type": "stream",
     "text": [
      "You are invited to my party Ugomma\n",
      "You are invited to my party Amara\n",
      "You are invited to my party Aisha\n"
     ]
    }
   ],
   "source": [
    "\n",
    "Invitees = ['ugomma','amara','aisha']\n",
    "for invitee in Invitees:\n",
    " print(f\"You are invited to my party {invitee.title()}\")\n",
    "\n"
   ]
  },
  {
   "cell_type": "code",
   "execution_count": null,
   "id": "ca80a4c4",
   "metadata": {},
   "outputs": [
    {
     "name": "stdout",
     "output_type": "stream",
     "text": [
      "['ugomma', 'amara', 'aisha', 'amina']\n"
     ]
    }
   ],
   "source": [
    "Invitees.append('amina') #using append\n",
    "print(Invitees)"
   ]
  },
  {
   "cell_type": "code",
   "execution_count": null,
   "id": "0762c8c3",
   "metadata": {},
   "outputs": [
    {
     "name": "stdout",
     "output_type": "stream",
     "text": [
      "hello everyone, I found a bigger table for you all\n",
      "['ukachi', 'ugomma', 'amara', 'aisha', 'amina']\n"
     ]
    }
   ],
   "source": [
    "print(\"hello everyone, I found a bigger table for you all\")\n",
    "Invitees.insert(0,'ukachi') #adding element at the beginning\n",
    "print(Invitees)\n",
    "\n"
   ]
  }
 ],
 "metadata": {
  "kernelspec": {
   "display_name": "Python 3",
   "language": "python",
   "name": "python3"
  },
  "language_info": {
   "codemirror_mode": {
    "name": "ipython",
    "version": 3
   },
   "file_extension": ".py",
   "mimetype": "text/x-python",
   "name": "python",
   "nbconvert_exporter": "python",
   "pygments_lexer": "ipython3",
   "version": "3.12.0"
  }
 },
 "nbformat": 4,
 "nbformat_minor": 5
}
